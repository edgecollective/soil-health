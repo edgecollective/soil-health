{
 "cells": [
  {
   "cell_type": "code",
   "execution_count": 13,
   "metadata": {},
   "outputs": [],
   "source": [
    "import pandas as pd\n",
    "from matplotlib.pyplot import *\n",
    "import matplotlib.pyplot as plt\n",
    "import matplotlib.dates as mdates"
   ]
  },
  {
   "cell_type": "code",
   "execution_count": 14,
   "metadata": {},
   "outputs": [],
   "source": [
    "a=pd.read_csv(\"~/Downloads/patrick.csv\") "
   ]
  },
  {
   "cell_type": "code",
   "execution_count": 15,
   "metadata": {},
   "outputs": [],
   "source": [
    "a.columns=['date','field','value']"
   ]
  },
  {
   "cell_type": "code",
   "execution_count": 16,
   "metadata": {},
   "outputs": [
    {
     "data": {
      "text/html": [
       "<div>\n",
       "<style scoped>\n",
       "    .dataframe tbody tr th:only-of-type {\n",
       "        vertical-align: middle;\n",
       "    }\n",
       "\n",
       "    .dataframe tbody tr th {\n",
       "        vertical-align: top;\n",
       "    }\n",
       "\n",
       "    .dataframe thead th {\n",
       "        text-align: right;\n",
       "    }\n",
       "</style>\n",
       "<table border=\"1\" class=\"dataframe\">\n",
       "  <thead>\n",
       "    <tr style=\"text-align: right;\">\n",
       "      <th></th>\n",
       "      <th>date</th>\n",
       "      <th>field</th>\n",
       "      <th>value</th>\n",
       "    </tr>\n",
       "  </thead>\n",
       "  <tbody>\n",
       "    <tr>\n",
       "      <td>0</td>\n",
       "      <td>09/19/2019 - 17:36</td>\n",
       "      <td>Volumetric Water Content (%)</td>\n",
       "      <td>0.00</td>\n",
       "    </tr>\n",
       "    <tr>\n",
       "      <td>1</td>\n",
       "      <td>09/19/2019 - 17:36</td>\n",
       "      <td>Soil Temp (C)</td>\n",
       "      <td>28.56</td>\n",
       "    </tr>\n",
       "    <tr>\n",
       "      <td>2</td>\n",
       "      <td>09/19/2019 - 17:36</td>\n",
       "      <td>Soil Permittivity</td>\n",
       "      <td>1.20</td>\n",
       "    </tr>\n",
       "    <tr>\n",
       "      <td>3</td>\n",
       "      <td>09/19/2019 - 17:36</td>\n",
       "      <td>Soil Bulk EC (uS/cm)</td>\n",
       "      <td>0.00</td>\n",
       "    </tr>\n",
       "    <tr>\n",
       "      <td>4</td>\n",
       "      <td>09/19/2019 - 17:36</td>\n",
       "      <td>Soil Pore Water EC (uS/cm)</td>\n",
       "      <td>0.00</td>\n",
       "    </tr>\n",
       "    <tr>\n",
       "      <td>...</td>\n",
       "      <td>...</td>\n",
       "      <td>...</td>\n",
       "      <td>...</td>\n",
       "    </tr>\n",
       "    <tr>\n",
       "      <td>997</td>\n",
       "      <td>09/20/2019 - 13:38</td>\n",
       "      <td>Soil Temp (C)</td>\n",
       "      <td>38.64</td>\n",
       "    </tr>\n",
       "    <tr>\n",
       "      <td>998</td>\n",
       "      <td>09/20/2019 - 13:38</td>\n",
       "      <td>Soil Permittivity</td>\n",
       "      <td>27.49</td>\n",
       "    </tr>\n",
       "    <tr>\n",
       "      <td>999</td>\n",
       "      <td>09/20/2019 - 13:38</td>\n",
       "      <td>Soil Bulk EC (uS/cm)</td>\n",
       "      <td>562.87</td>\n",
       "    </tr>\n",
       "    <tr>\n",
       "      <td>1000</td>\n",
       "      <td>09/20/2019 - 13:38</td>\n",
       "      <td>Soil Pore Water EC (uS/cm)</td>\n",
       "      <td>2381.84</td>\n",
       "    </tr>\n",
       "    <tr>\n",
       "      <td>1001</td>\n",
       "      <td>09/20/2019 - 13:38</td>\n",
       "      <td>Battery Voltage (V)</td>\n",
       "      <td>6.49</td>\n",
       "    </tr>\n",
       "  </tbody>\n",
       "</table>\n",
       "<p>1002 rows × 3 columns</p>\n",
       "</div>"
      ],
      "text/plain": [
       "                    date                         field    value\n",
       "0     09/19/2019 - 17:36  Volumetric Water Content (%)     0.00\n",
       "1     09/19/2019 - 17:36                 Soil Temp (C)    28.56\n",
       "2     09/19/2019 - 17:36             Soil Permittivity     1.20\n",
       "3     09/19/2019 - 17:36          Soil Bulk EC (uS/cm)     0.00\n",
       "4     09/19/2019 - 17:36    Soil Pore Water EC (uS/cm)     0.00\n",
       "...                  ...                           ...      ...\n",
       "997   09/20/2019 - 13:38                 Soil Temp (C)    38.64\n",
       "998   09/20/2019 - 13:38             Soil Permittivity    27.49\n",
       "999   09/20/2019 - 13:38          Soil Bulk EC (uS/cm)   562.87\n",
       "1000  09/20/2019 - 13:38    Soil Pore Water EC (uS/cm)  2381.84\n",
       "1001  09/20/2019 - 13:38           Battery Voltage (V)     6.49\n",
       "\n",
       "[1002 rows x 3 columns]"
      ]
     },
     "execution_count": 16,
     "metadata": {},
     "output_type": "execute_result"
    }
   ],
   "source": [
    "a"
   ]
  },
  {
   "cell_type": "code",
   "execution_count": 17,
   "metadata": {},
   "outputs": [],
   "source": [
    "h=a.iloc[::6]"
   ]
  },
  {
   "cell_type": "code",
   "execution_count": 18,
   "metadata": {},
   "outputs": [
    {
     "data": {
      "text/html": [
       "<div>\n",
       "<style scoped>\n",
       "    .dataframe tbody tr th:only-of-type {\n",
       "        vertical-align: middle;\n",
       "    }\n",
       "\n",
       "    .dataframe tbody tr th {\n",
       "        vertical-align: top;\n",
       "    }\n",
       "\n",
       "    .dataframe thead th {\n",
       "        text-align: right;\n",
       "    }\n",
       "</style>\n",
       "<table border=\"1\" class=\"dataframe\">\n",
       "  <thead>\n",
       "    <tr style=\"text-align: right;\">\n",
       "      <th></th>\n",
       "      <th>date</th>\n",
       "      <th>field</th>\n",
       "      <th>value</th>\n",
       "    </tr>\n",
       "  </thead>\n",
       "  <tbody>\n",
       "    <tr>\n",
       "      <td>0</td>\n",
       "      <td>09/19/2019 - 17:36</td>\n",
       "      <td>Volumetric Water Content (%)</td>\n",
       "      <td>0.00</td>\n",
       "    </tr>\n",
       "    <tr>\n",
       "      <td>6</td>\n",
       "      <td>09/19/2019 - 17:42</td>\n",
       "      <td>Volumetric Water Content (%)</td>\n",
       "      <td>0.00</td>\n",
       "    </tr>\n",
       "    <tr>\n",
       "      <td>12</td>\n",
       "      <td>09/19/2019 - 17:48</td>\n",
       "      <td>Volumetric Water Content (%)</td>\n",
       "      <td>0.00</td>\n",
       "    </tr>\n",
       "    <tr>\n",
       "      <td>18</td>\n",
       "      <td>09/19/2019 - 17:54</td>\n",
       "      <td>Volumetric Water Content (%)</td>\n",
       "      <td>0.00</td>\n",
       "    </tr>\n",
       "    <tr>\n",
       "      <td>24</td>\n",
       "      <td>09/19/2019 - 18:03</td>\n",
       "      <td>Volumetric Water Content (%)</td>\n",
       "      <td>0.00</td>\n",
       "    </tr>\n",
       "    <tr>\n",
       "      <td>...</td>\n",
       "      <td>...</td>\n",
       "      <td>...</td>\n",
       "      <td>...</td>\n",
       "    </tr>\n",
       "    <tr>\n",
       "      <td>972</td>\n",
       "      <td>09/20/2019 - 13:13</td>\n",
       "      <td>Volumetric Water Content (%)</td>\n",
       "      <td>46.07</td>\n",
       "    </tr>\n",
       "    <tr>\n",
       "      <td>978</td>\n",
       "      <td>09/20/2019 - 13:19</td>\n",
       "      <td>Volumetric Water Content (%)</td>\n",
       "      <td>45.96</td>\n",
       "    </tr>\n",
       "    <tr>\n",
       "      <td>984</td>\n",
       "      <td>09/20/2019 - 13:26</td>\n",
       "      <td>Volumetric Water Content (%)</td>\n",
       "      <td>45.96</td>\n",
       "    </tr>\n",
       "    <tr>\n",
       "      <td>990</td>\n",
       "      <td>09/20/2019 - 13:32</td>\n",
       "      <td>Volumetric Water Content (%)</td>\n",
       "      <td>45.36</td>\n",
       "    </tr>\n",
       "    <tr>\n",
       "      <td>996</td>\n",
       "      <td>09/20/2019 - 13:38</td>\n",
       "      <td>Volumetric Water Content (%)</td>\n",
       "      <td>45.48</td>\n",
       "    </tr>\n",
       "  </tbody>\n",
       "</table>\n",
       "<p>167 rows × 3 columns</p>\n",
       "</div>"
      ],
      "text/plain": [
       "                   date                         field  value\n",
       "0    09/19/2019 - 17:36  Volumetric Water Content (%)   0.00\n",
       "6    09/19/2019 - 17:42  Volumetric Water Content (%)   0.00\n",
       "12   09/19/2019 - 17:48  Volumetric Water Content (%)   0.00\n",
       "18   09/19/2019 - 17:54  Volumetric Water Content (%)   0.00\n",
       "24   09/19/2019 - 18:03  Volumetric Water Content (%)   0.00\n",
       "..                  ...                           ...    ...\n",
       "972  09/20/2019 - 13:13  Volumetric Water Content (%)  46.07\n",
       "978  09/20/2019 - 13:19  Volumetric Water Content (%)  45.96\n",
       "984  09/20/2019 - 13:26  Volumetric Water Content (%)  45.96\n",
       "990  09/20/2019 - 13:32  Volumetric Water Content (%)  45.36\n",
       "996  09/20/2019 - 13:38  Volumetric Water Content (%)  45.48\n",
       "\n",
       "[167 rows x 3 columns]"
      ]
     },
     "execution_count": 18,
     "metadata": {},
     "output_type": "execute_result"
    }
   ],
   "source": [
    "h"
   ]
  },
  {
   "cell_type": "code",
   "execution_count": 26,
   "metadata": {},
   "outputs": [
    {
     "data": {
      "image/png": "[encoded data removed]",
      "text/plain": [
       "<Figure size 1080x432 with 1 Axes>"
      ]
     },
     "metadata": {
      "needs_background": "light"
     },
     "output_type": "display_data"
    }
   ],
   "source": [
    "fig, ax = subplots()\n",
    "fig.set_size_inches(15, 6)\n",
    "#fig(num=None, figsize=(8, 6), dpi=80, facecolor='w', edgecolor='k')\n",
    "#ax.xticks(rotation=70)\n",
    "#h.plot(x='date',y='value',ax=ax,ylim=(.7,2.2),x_compat=True)\n",
    "h.plot(x='date',y='value',style='.-',ax=ax,x_compat=True)\n",
    "plt.xticks(rotation=86)\n",
    "plt.ylabel(\"% Vol Water\", labelpad=20)\n",
    "#ax.xaxis.set_major_locator(mdates.HourLocator(interval=1))\n",
    "#ax.xaxis.set_major_formatter(mdates.DateFormatter('%H:%M'))\n",
    "#plt.gcf().autofmt_xdate()\n",
    "ax.legend(['% Vol Water'])\n",
    "ax.xaxis.labelpad = 20\n",
    "#hours = mdates.HourLocator(interval = 1)\n",
    "#h_fmt = mdates.DateFormatter('%H:%M:%S')\n",
    "#ax.xaxis.set_major_locator(hours)\n",
    "#ax.xaxis.set_major_formatter(h_fmt)\n",
    "#fig.autofmt_xdate()\n",
    "#plt.show()\n",
    "#ax.xaxis.set_major_locator(mdates.HourLocator(interval=1))\n",
    "#ax.xaxis.set_major_formatter(mdates.DateFormatter('%H:%M'))\n",
    "#ax.xaxis.set_major_formatter(mdates.DateFormatter('%d-%m-%Y'))\n",
    "#plt.gcf().autofmt_xdate()\n",
    "#plt.show()\n",
    "#plt.axhline(y=1.6, color='r', linestyle='-')\n",
    "#plt.axhline(y=1.7, color='r', linestyle='-')\n",
    "#plt.axhline(y=1.98, color='r', linestyle='-')"
   ]
  },
  {
   "cell_type": "markdown",
   "metadata": {},
   "source": [
    "try this next: https://stackoverflow.com/questions/48790378/how-to-get-ticks-every-hour"
   ]
  }
 ],
 "metadata": {
  "kernelspec": {
   "display_name": "Python 3",
   "language": "python",
   "name": "python3"
  },
  "language_info": {
   "codemirror_mode": {
    "name": "ipython",
    "version": 3
   },
   "file_extension": ".py",
   "mimetype": "text/x-python",
   "name": "python",
   "nbconvert_exporter": "python",
   "pygments_lexer": "ipython3",
   "version": "3.6.8"
  }
 },
 "nbformat": 4,
 "nbformat_minor": 4
}
